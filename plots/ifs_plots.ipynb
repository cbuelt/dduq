{
 "cells": [
  {
   "cell_type": "code",
   "execution_count": 1,
   "id": "b5824c93-7926-4dd9-b445-004193a0bbfa",
   "metadata": {},
   "outputs": [],
   "source": [
    "import xarray as xr\n",
    "import numpy as np\n",
    "import pandas as pd\n",
    "import matplotlib.pyplot as plt\n",
    "#import xarray_extras.csv as csv\n",
    "import cmcrameri \n",
    "from matplotlib import cm\n",
    "from matplotlib.ticker import LinearLocator\n",
    "from matplotlib.colors import Normalize, CenteredNorm\n",
    "import cartopy.crs as ccrs\n",
    "import cartopy.feature as cfeature"
   ]
  },
  {
   "cell_type": "code",
   "execution_count": 2,
   "id": "e78f6fbc-5593-4944-bfb5-ecf32c996209",
   "metadata": {},
   "outputs": [],
   "source": [
    "idx = {\"u10\":0, \"v10\":1, \"t2m\":2, \"t850\":3, \"z500\":4}\n",
    "results_path = \"../results/ifs/\"\n",
    "results_path_pangu = \"../results/pangu/\"\n",
    "plot_path = \"../plots/ifs/\""
   ]
  },
  {
   "cell_type": "code",
   "execution_count": 3,
   "id": "7239a2ff-0d9b-4cce-8b08-83a48e75351a",
   "metadata": {},
   "outputs": [],
   "source": [
    "# Open IFS\n",
    "\n",
    "ifs_eq = xr.open_dataset(results_path + \"ifs_eq.h5\").isel(phony_dim_0 = 2).rename({\"phony_dim_1\" : \"ics\", \"phony_dim_2\" : \"lead_time\",\n",
    "                                                                       \"phony_dim_3\": \"var\", \"phony_dim_4\": \"lat\", \"phony_dim_5\": \"lon\"}).eq\n",
    "\n",
    "ifs_drn = xr.open_dataset(results_path + \"ifs_drn.h5\").isel(phony_dim_0 = 2).rename({\"phony_dim_1\" : \"ics\", \"phony_dim_2\" : \"lead_time\",\n",
    "                                                                       \"phony_dim_3\": \"var\", \"phony_dim_4\": \"lat\", \"phony_dim_5\": \"lon\"}).drn\n",
    "\n",
    "ecmwf_ics = xr.open_dataset(\"../fcn/ecmwf_crps.h5\").rename({\"phony_dim_0\" : \"ics\", \"phony_dim_1\" : \"lead_time\",\n",
    "                                                                                                    \"phony_dim_2\": \"var\", \"phony_dim_3\": \"lat\", \"phony_dim_4\": \"lon\"}).ics\n",
    "\n",
    "pangu_eq = xr.open_dataset(results_path_pangu + \"pangu_eq.h5\").isel(phony_dim_0 = 2).rename({\"phony_dim_1\" : \"ics\", \"phony_dim_2\" : \"lead_time\",\n",
    "                                                                       \"phony_dim_3\": \"var\", \"phony_dim_4\": \"lat\", \"phony_dim_5\": \"lon\"}).eq\n",
    "\n",
    "pangu_drn = xr.open_dataset(results_path_pangu + \"pangu_drn.h5\").isel(phony_dim_0 = 2).rename({\"phony_dim_1\" : \"ics\", \"phony_dim_2\" : \"lead_time\",\n",
    "                                                                        \"phony_dim_3\": \"var\", \"phony_dim_4\": \"lat\", \"phony_dim_5\": \"lon\"}).drn\n"
   ]
  },
  {
   "cell_type": "code",
   "execution_count": 4,
   "id": "ec857e7d-0bad-43ba-b429-e79a0a013f80",
   "metadata": {},
   "outputs": [],
   "source": [
    "# Plot parameters\n",
    "plt.style.use('seaborn-v0_8-whitegrid')\n",
    "cmap_name = \"cmc.roma_r\"\n",
    "cmap = plt.get_cmap(cmap_name)\n",
    "plt.rcParams['image.cmap'] = cmap_name\n",
    "\n",
    "cmap_error = \"cmc.vik\""
   ]
  },
  {
   "cell_type": "code",
   "execution_count": null,
   "id": "17ef5c5e-ae4e-451e-a5d1-1174d57ff52c",
   "metadata": {},
   "outputs": [],
   "source": [
    "cmap"
   ]
  },
  {
   "cell_type": "code",
   "execution_count": 6,
   "id": "ffca89a0-7833-4f2b-a838-8e237b1bd0be",
   "metadata": {},
   "outputs": [],
   "source": [
    "# Sizes\n",
    "lw = 4.2\n",
    "titlesize = 35\n",
    "ticksize = 25\n",
    "axissize = 30"
   ]
  },
  {
   "cell_type": "code",
   "execution_count": 7,
   "id": "a0821322-598b-46a9-8d14-3646e47c53cf",
   "metadata": {},
   "outputs": [],
   "source": [
    "# ECMWF Europe grid \n",
    "# 35-75°N und von 12.5°W bis 42.5°E\n",
    "lon = [-12.5, 42.5]\n",
    "lat = [35,75]\n",
    "lons = np.arange(lon[0], lon[1], 0.25)\n",
    "lats = np.flip(np.arange(lat[0], lat[1], 0.25))"
   ]
  },
  {
   "cell_type": "code",
   "execution_count": 8,
   "id": "3f72afe8-cfb8-44a2-9b22-ee1569dfb128",
   "metadata": {},
   "outputs": [],
   "source": [
    "lead_times = [4,12,28]"
   ]
  },
  {
   "cell_type": "code",
   "execution_count": 9,
   "id": "a71b4af7-cf3a-4033-bc17-497d92d95e9d",
   "metadata": {},
   "outputs": [],
   "source": [
    "methods = [\"IFS\",\"IFS + EasyUQ\", \"IFS + DRN\", \"Pangu + EasyUQ\", \"Pangu + DRN\"]"
   ]
  },
  {
   "cell_type": "code",
   "execution_count": 10,
   "id": "91fbb7b7-faa2-4e15-8406-0ec3e3e7d453",
   "metadata": {},
   "outputs": [],
   "source": [
    "#colors = {\"ECMWF IFS\": \"black\", \"GNP\": \"#04407b\", \"IFSP\": \"#3c76aa\", \"RFP\": \"#81a4cd\", \"EasyUQ\": \"#efca08\", \"DRN\": \"#f08700\"}\n",
    "#colors = {\"ECMWF IFS\": \"black\", \"GNP\": \"#406f8c\", \"IFSP\": \"#619b8a\", \"RFP\": \"#a1c181\", \"EasyUQ\": \"#fe7f2d\", \"DRN\": \"#fcca46\"}\n",
    "colors = {\"IFS\": \"black\", \"GNP\": cmap(0.01), \"IFSP\": cmap(0.25), \"RFP\": cmap(0.38), \"EasyUQ\": cmap(0.65), \"DRN\": cmap(0.8),\n",
    "         \"IFS + EasyUQ\": cmap(0.65), \"IFS + DRN\": cmap(0.8), \"Pangu + EasyUQ\": cmap(0.75), \"Pangu + DRN\": cmap(0.95)}"
   ]
  },
  {
   "cell_type": "markdown",
   "id": "03a0f7e9-626b-49dc-a014-676435bf487c",
   "metadata": {
    "jp-MarkdownHeadingCollapsed": true,
    "tags": []
   },
   "source": [
    "# Aggregated results table"
   ]
  },
  {
   "cell_type": "code",
   "execution_count": 60,
   "id": "93ccfc8f-396a-4321-bba5-43f48b5910a5",
   "metadata": {},
   "outputs": [],
   "source": [
    "iterables = [[\"Short\",\"Mid\", \"Long\"],[\"u10\", \"v10\", \"t2m\", \"t850\", \"z500\"]]\n",
    "col_names = [\"ECMWF IFS\", \"EasyUQ\", \"DRN\"]\n",
    "methods = [ecmwf_ics, ifs_eq, ifs_drn]\n",
    "\n",
    "index = pd.MultiIndex.from_product(iterables, names=[\"Lead time\", \"variables\"])\n",
    "\n",
    "data = pd.DataFrame(np.zeros((15,3)), index=index, columns = col_names)\n",
    "\n",
    "for var in list(idx.keys()):\n",
    "    #Other methods\n",
    "    for x, method in enumerate(methods):\n",
    "        data.loc[(\"Short\", var), col_names[x]] = method.isel(var = idx[var], lead_time = slice(1,9)).mean()\n",
    "        data.loc[(\"Mid\", var), col_names[x]] = method.isel(var = idx[var], lead_time = slice(9,21)).mean()\n",
    "        data.loc[(\"Long\", var), col_names[x]] = method.isel(var = idx[var], lead_time = slice(21,32)).mean()     "
   ]
  },
  {
   "cell_type": "code",
   "execution_count": null,
   "id": "ed7c0466-a5ec-4882-8390-11905da75d92",
   "metadata": {},
   "outputs": [],
   "source": [
    "data"
   ]
  },
  {
   "cell_type": "code",
   "execution_count": null,
   "id": "0266a4b5-145a-41ab-9ec5-85b50e551768",
   "metadata": {},
   "outputs": [],
   "source": [
    "print(data.to_latex(index=True, float_format=\"{:.3f}\".format))"
   ]
  },
  {
   "cell_type": "markdown",
   "id": "b0111de7-08aa-40e4-aa23-f9b633b0998d",
   "metadata": {},
   "source": [
    "# Comparison"
   ]
  },
  {
   "cell_type": "code",
   "execution_count": 126,
   "id": "19e403a5-fb34-46f6-8120-8923ffe5e34d",
   "metadata": {},
   "outputs": [],
   "source": [
    "methods = [\"IFS\",\"IFS + EasyUQ\", \"IFS + DRN\", \"Pangu + EasyUQ\", \"Pangu + DRN\"]"
   ]
  },
  {
   "cell_type": "code",
   "execution_count": null,
   "id": "8030a343-9fca-46d4-a43b-d54cf4911439",
   "metadata": {},
   "outputs": [],
   "source": [
    "fig, axs = plt.subplots(figsize = (20,8))\n",
    "hour_range = np.arange(1, ecmwf_ics.shape[1])*6\n",
    "marker = \" \"\n",
    "var = \"t2m\"\n",
    "\n",
    "axs.plot(hour_range, ecmwf_ics.isel(var = idx[var], lead_time = slice(1,32)).mean(dim = [\"ics\", \"lat\", \"lon\"]), marker = marker, color = colors[\"IFS\"], lw = lw)    \n",
    "axs.plot(hour_range, ifs_eq.isel(var = idx[var], lead_time = slice(1,32)).mean(dim = [\"ics\", \"lat\", \"lon\"]), marker = marker, color = colors[\"EasyUQ\"], lw = lw)      \n",
    "axs.plot(hour_range, ifs_drn.isel(var = idx[var], lead_time = slice(1,32)).mean(dim = [\"ics\", \"lat\", \"lon\"]), marker = marker, color = colors[\"DRN\"], lw = lw)  \n",
    "axs.plot(hour_range, pangu_eq.isel(var = idx[var], lead_time = slice(1,32)).mean(dim = [\"ics\", \"lat\", \"lon\"]), marker = marker, color = colors[\"EasyUQ\"], lw = lw, linestyle = \"--\")      \n",
    "axs.plot(hour_range, pangu_drn.isel(var = idx[var], lead_time = slice(1,32)).mean(dim = [\"ics\", \"lat\", \"lon\"]), marker = marker, color = colors[\"DRN\"], lw = lw, linestyle = \"--\")  \n",
    "\n",
    "axs.set_title(f\"{var}\", fontsize = titlesize+5)\n",
    "axs.set_xlim([0, 186])\n",
    "axs.tick_params(axis='both', labelsize = ticksize+3)\n",
    "    \n",
    "axs.set_xlabel(\"Forecast lead time [h]\", fontsize = axissize+3)\n",
    "axs.set_ylabel(\"CRPS\", fontsize = axissize+3)\n",
    "   \n",
    "axs.legend(labels = methods, fontsize = titlesize)\n",
    "    \n",
    "fig.tight_layout()"
   ]
  },
  {
   "cell_type": "markdown",
   "id": "86fde167-23eb-488d-890e-355a3d3d53a2",
   "metadata": {
    "tags": []
   },
   "source": [
    "# Per time"
   ]
  },
  {
   "cell_type": "code",
   "execution_count": 13,
   "id": "ad316b61-e10d-4ebb-938d-501062e23c1b",
   "metadata": {},
   "outputs": [],
   "source": [
    "methods = [\"IFS\",\"Pangu + EasyUQ\", \"Pangu + DRN\",\"IFS + EasyUQ\", \"IFS + DRN\"]"
   ]
  },
  {
   "cell_type": "code",
   "execution_count": null,
   "id": "878aa59c-e8dc-4c09-90d3-f156ed8785ea",
   "metadata": {},
   "outputs": [],
   "source": [
    "fig, axs = plt.subplots(3, 2, figsize = (30,25))\n",
    "axs = axs.ravel()\n",
    "hour_range = np.arange(1, ecmwf_ics.shape[1])*6\n",
    "marker = \" \"\n",
    "\n",
    "for i, var in enumerate([2,3,0,1,4]):\n",
    "    axs[i].plot(hour_range, ecmwf_ics.isel(var = var, lead_time = slice(1,32)).mean(dim = [\"ics\", \"lat\", \"lon\"]), marker = marker, color = colors[\"IFS\"], lw = lw)    \n",
    "    axs[i].plot(hour_range, pangu_eq.isel(var = var, lead_time = slice(1,32)).mean(dim = [\"ics\", \"lat\", \"lon\"]), marker = marker, color = colors[\"EasyUQ\"], lw = lw)      \n",
    "    axs[i].plot(hour_range, pangu_drn.isel(var = var, lead_time = slice(1,32)).mean(dim = [\"ics\", \"lat\", \"lon\"]), marker = marker, color = colors[\"DRN\"], lw = lw)  \n",
    "    axs[i].plot(hour_range, ifs_eq.isel(var = var, lead_time = slice(1,32)).mean(dim = [\"ics\", \"lat\", \"lon\"]), marker = marker, color = colors[\"EasyUQ\"], lw = lw,  linestyle = \"--\")      \n",
    "    axs[i].plot(hour_range, ifs_drn.isel(var = var, lead_time = slice(1,32)).mean(dim = [\"ics\", \"lat\", \"lon\"]), marker = marker, color = colors[\"DRN\"], lw = lw,  linestyle = \"--\")  \n",
    "\n",
    "    axs[i].set_title(f\"{list(idx.keys())[var]}\".upper(), fontsize = titlesize+3)\n",
    "    axs[i].set_xlim([0, 186])\n",
    "    axs[i].tick_params(axis='both', labelsize = ticksize+5)\n",
    "    \n",
    "axs[3].set_xlabel(\"Forecast lead time [h]\", fontsize = axissize+5)\n",
    "axs[4].set_xlabel(\"Forecast lead time [h]\", fontsize = axissize+5)\n",
    "axs[0].set_ylabel(\"CRPS\", fontsize = axissize+5)\n",
    "axs[2].set_ylabel(\"CRPS\", fontsize = axissize+5)\n",
    "axs[4].set_ylabel(\"CRPS\", fontsize = axissize+5)\n",
    "\n",
    "#Remove unused axis\n",
    "axs[5].remove()\n",
    "    \n",
    "fig.legend(loc=(0.7,0.08), labels = methods, fontsize = titlesize+7)\n",
    "    \n",
    "fig.tight_layout()\n",
    "plt.savefig(plot_path + f\"cprs_per_time.pdf\", bbox_inches = \"tight\", dpi = 300)"
   ]
  },
  {
   "cell_type": "markdown",
   "id": "96049b81-006a-4ef2-9333-1883053c4349",
   "metadata": {
    "tags": []
   },
   "source": [
    "# Per gridpoint (CRPSS)"
   ]
  },
  {
   "cell_type": "code",
   "execution_count": null,
   "id": "33cbe989-bd28-4861-a1a8-79f8c914865f",
   "metadata": {},
   "outputs": [],
   "source": [
    "methods = [\"IFS\",\"IFS + EasyUQ\", \"IFS + DRN\",\"Pangu + EasyUQ\", \"Pangu + DRN\"]"
   ]
  },
  {
   "cell_type": "code",
   "execution_count": null,
   "id": "e52231cf-5571-456b-84b7-8db82d73b93c",
   "metadata": {},
   "outputs": [],
   "source": [
    "fig, axs = plt.subplots(3,4, figsize = (30,10),subplot_kw={'projection': ccrs.PlateCarree()})\n",
    "var = 0\n",
    "\n",
    "for ax in axs.ravel():\n",
    "    ax.set_extent([lon[0], lon[1]-0.25, lat[0], lat[1]], crs=ccrs.PlateCarree())\n",
    "    ax.add_feature(cfeature.COASTLINE)\n",
    "\n",
    "normalizer=CenteredNorm(halfrange = 1)\n",
    "im=cm.ScalarMappable(norm=normalizer, cmap = cmap_error)\n",
    "\n",
    "for t, lead_time in enumerate(lead_times):    \n",
    "    ref = ecmwf_ics.isel(var = var, lead_time = lead_time).mean(dim = [\"ics\"])    \n",
    "    axs[t,0].contourf(lons, lats, (ref.data-ifs_eq.isel(var = var, lead_time = lead_time).mean(dim = [\"ics\"]))/ref.data, 60, transform=ccrs.PlateCarree(), norm = normalizer, cmap = cmap_error)\n",
    "    axs[t,1].contourf(lons, lats, (ref.data-ifs_drn.isel(var = var, lead_time = lead_time).mean(dim = [\"ics\"]))/ref.data, 60, transform=ccrs.PlateCarree(), norm = normalizer, cmap = cmap_error)\n",
    "    axs[t,2].contourf(lons, lats, (ref.data-pangu_eq.isel(var = var, lead_time = lead_time).mean(dim = [\"ics\"]))/ref.data, 60, transform=ccrs.PlateCarree(), norm = normalizer, cmap = cmap_error)\n",
    "    axs[t,3].contourf(lons, lats, (ref.data-pangu_drn.isel(var = var, lead_time = lead_time).mean(dim = [\"ics\"]))/ref.data, 60, transform=ccrs.PlateCarree(), norm = normalizer, cmap = cmap_error)\n",
    "     \n",
    "    # Lead time\n",
    "    axs[t,0].set_xticks([])\n",
    "    axs[t,0].set_yticks([])\n",
    "    axs[t,0].set_ylabel(f\"Lead time: {lead_time *6}h\", fontsize = axissize)\n",
    "\n",
    "# Set title\n",
    "axs[0,0].set_title(\"IFS + EasyUQ\", fontsize = axissize)\n",
    "axs[0,1].set_title(\"IFS + DRN\", fontsize = axissize)\n",
    "axs[0,2].set_title(\"Pangu + EasyUQ\", fontsize = axissize)\n",
    "axs[0,3].set_title(\"Pangu + DRN\", fontsize = axissize)\n",
    "\n",
    "# Remove all axis label\n",
    "axs = axs.ravel()\n",
    "for i in range(len(axs)):\n",
    "    if i%4!=0:\n",
    "        axs[i].set_ylabel(None)\n",
    "    axs[i].set_xlabel(None)\n",
    "\n",
    "plt.tight_layout()\n",
    "fig.subplots_adjust(right=0.8)\n",
    "cbar_ax = fig.add_axes([0.805, 0.05, 0.05, 0.86])\n",
    "cb = fig.colorbar(im, cax=cbar_ax)\n",
    "cb.ax.tick_params(labelsize=ticksize)\n",
    "\n",
    "#plt.suptitle(f\"CRPSS against Gaussian model for variable {list(idx.keys())[var]}\", fontsize = titlesize)\n",
    "\n",
    "plt.savefig(plot_path + f\"crpss_per_grid_{list(idx.keys())[var]}.png\", bbox_inches = \"tight\")"
   ]
  },
  {
   "cell_type": "markdown",
   "id": "faf3e932-6861-4c93-bb39-f7197f0a504d",
   "metadata": {
    "tags": []
   },
   "source": [
    "# PIT Histogram"
   ]
  },
  {
   "cell_type": "code",
   "execution_count": 170,
   "id": "6d0abec9-b238-46be-a792-e02c2d536d55",
   "metadata": {},
   "outputs": [],
   "source": [
    "n_grid = 10\n",
    "var = 0\n",
    "var_name = list(idx.keys())[var]"
   ]
  },
  {
   "cell_type": "code",
   "execution_count": 171,
   "id": "4d1d9a72-96e1-4e72-97ac-ef099f13058a",
   "metadata": {},
   "outputs": [],
   "source": [
    "ifs_pit = xr.open_dataset(results_path + \"pit.h5\")[var_name].stack(samples = (\"phony_dim_0\", \"phony_dim_1\"))\n",
    "pangu_pit = xr.open_dataset(results_path_pangu + \"pit.h5\")[var_name].stack(samples = (\"phony_dim_0\", \"phony_dim_1\")).isel(phony_dim_3 = [4,5])\n",
    "pit = xr.concat([ifs_pit, pangu_pit], dim = \"phony_dim_3\")"
   ]
  },
  {
   "cell_type": "code",
   "execution_count": null,
   "id": "757b5164-4850-40b1-bebd-e6157832a8c2",
   "metadata": {},
   "outputs": [],
   "source": [
    "models = [\"IFS + EasyUQ\", \"IFS + DRN\", \"Pangu + EasyUQ\", \"Pangu + DRN\"]\n",
    "fig, axs = plt.subplots(3, 4, figsize = (30,10))\n",
    "\n",
    "\n",
    "for i, model in enumerate(models):\n",
    "    for t, lead_time in enumerate(lead_times):\n",
    "        axs[t,i].hist(pit[t,i], color = colors[model])\n",
    "        axs[t,i].set_ylim([0,500])\n",
    "        axs[t,0].set_ylabel(f\"Lead time : {6*lead_time}h\", fontsize = 20)\n",
    "        axs[t,i].tick_params(axis='both', labelsize = 12)\n",
    "        \n",
    "    axs[0,i].set_title(f\"{model}\", fontsize = 22)\n",
    "    \n",
    "        \n",
    "#fig.suptitle(f'PIT histograms for variable {list(idx.keys())[var]} and {n_grid} random grid points', fontsize = 25)\n",
    "\n",
    "plt.savefig(plot_path + f\"/pit_{var_name}.pdf\", bbox_inches = \"tight\")"
   ]
  },
  {
   "cell_type": "markdown",
   "id": "90b52960-b40d-470b-9365-d791e85425eb",
   "metadata": {
    "tags": []
   },
   "source": [
    "# Bias"
   ]
  },
  {
   "cell_type": "code",
   "execution_count": 158,
   "id": "7e6ba80b-be10-4f26-b607-b8a1eaff6236",
   "metadata": {},
   "outputs": [],
   "source": [
    "var = 0\n",
    "var_name = list(idx.keys())[var]\n",
    "models = [\"IFS + EasyUQ\", \"IFS + DRN\", \"Pangu + EasyUQ\", \"Pangu + DRN\"]"
   ]
  },
  {
   "cell_type": "code",
   "execution_count": 159,
   "id": "84775c2f-c220-4ee6-9c4c-072573e36e0c",
   "metadata": {},
   "outputs": [],
   "source": [
    "bias_results = xr.open_dataset(results_path + \"bias.h5\")[var_name]\n",
    "bias_results_pangu = xr.open_dataset(results_path_pangu + \"bias.h5\").isel(phony_dim_0 = [4,5])[var_name]\n",
    "bias_results = xr.concat([bias_results, bias_results_pangu], dim = \"phony_dim_0\")"
   ]
  },
  {
   "cell_type": "code",
   "execution_count": null,
   "id": "15c5579b-4ab8-4843-8397-5fff19711eb3",
   "metadata": {},
   "outputs": [],
   "source": [
    "fig, axs = plt.subplots(3,4, figsize = (30,10),subplot_kw={'projection': ccrs.PlateCarree()})\n",
    "\n",
    "for ax in axs.ravel():\n",
    "    ax.set_extent([lon[0], lon[1], lat[0], lat[1]], crs=ccrs.PlateCarree())\n",
    "    ax.add_feature(cfeature.COASTLINE)\n",
    "    \n",
    "# Normalizer\n",
    "normalizer=CenteredNorm(halfrange = np.max([bias_results.min(),bias_results.max()]))\n",
    "im=cm.ScalarMappable(norm=normalizer, cmap = \"cmc.vik\")\n",
    "    \n",
    "for t, lead_time in enumerate(lead_times):\n",
    "    for i, model in enumerate(models):\n",
    "        axs[t,i].contourf(lons, lats, bias_results[i,t], 60, transform=ccrs.PlateCarree(), norm = normalizer, cmap = \"cmc.vik\")\n",
    "        \n",
    "    axs[t,0].set_xticks([])\n",
    "    axs[t,0].set_yticks([])\n",
    "    axs[t,0].set_ylabel(f\"Lead time: {lead_time *6}\", fontsize = axissize)\n",
    "axs[0,0].set_title(\"IFS + EasyUQ\", fontsize = axissize)\n",
    "axs[0,1].set_title(\"IFS + DRN\", fontsize = axissize)\n",
    "axs[0,2].set_title(\"Pangu + EasyUQ\", fontsize = axissize)\n",
    "axs[0,3].set_title(\"Pangu + DRN\", fontsize = axissize)\n",
    "\n",
    "\n",
    "plt.tight_layout()\n",
    "fig.subplots_adjust(right=0.8)\n",
    "cbar_ax = fig.add_axes([0.805, 0.05, 0.05, 0.86])\n",
    "cb = fig.colorbar(im, cax=cbar_ax)\n",
    "cb.ax.tick_params(labelsize=ticksize)\n",
    "\n",
    "#plt.suptitle(f\"Bias for variable {list(idx.keys())[var]}\", fontsize = titlesize)\n",
    "plt.savefig(plot_path +f\"bias_{var_name}.png\", bbox_inches = \"tight\")"
   ]
  },
  {
   "cell_type": "markdown",
   "id": "9bc9729c-a03c-4d2e-9b24-cb1c612d535d",
   "metadata": {},
   "source": [
    "# RMSE spread"
   ]
  },
  {
   "cell_type": "code",
   "execution_count": 124,
   "id": "95487632-1ead-4b36-bd17-ba054c3d833c",
   "metadata": {},
   "outputs": [],
   "source": [
    "var = 4\n",
    "var_name = list(idx.keys())[var]\n",
    "models = [\"IFS + EasyUQ\", \"IFS + DRN\", \"Pangu + EasyUQ\", \"Pangu + DRN\"]\n",
    "results = xr.open_dataset(results_path + \"ensemble_spread.h5\")[var_name].mean(dim = \"phony_dim_0\")\n",
    "results_pangu = xr.open_dataset(results_path_pangu + \"ensemble_spread.h5\").isel(phony_dim_2 = [4,5])[var_name].mean(dim = \"phony_dim_0\")\n",
    "results = xr.concat([results, results_pangu], dim = \"phony_dim_2\")"
   ]
  },
  {
   "cell_type": "code",
   "execution_count": null,
   "id": "18a96694-9802-4cdf-8958-a218c72ea787",
   "metadata": {},
   "outputs": [],
   "source": [
    "fig, axs = plt.subplots(figsize = (15,12))\n",
    "h = np.arange(0,32)*6\n",
    "\n",
    "for i, model in enumerate(models):\n",
    "    axs.plot(h,results[:,i,0], color = colors[model], lw = lw, label = model)\n",
    "    axs.plot(h,results[:,i,1], color = colors[model], linestyle = \"--\", lw = lw)\n",
    "\n",
    "axs.legend(fontsize = axissize)\n",
    "axs.set_xlabel(f\"Time [h]\", fontsize = axissize)\n",
    "axs.tick_params(axis='both', labelsize = ticksize)\n",
    "axs.set_xlim([0,186])\n",
    "\n",
    "#fig.suptitle(list(idx.keys())[var], fontsize = titlesize)\n",
    "plt.savefig(plot_path + f\"rmse_spread_{var_name}.pdf\", bbox_inches = \"tight\")"
   ]
  }
 ],
 "metadata": {
  "kernelspec": {
   "display_name": "UQ",
   "language": "python",
   "name": "uq"
  },
  "language_info": {
   "codemirror_mode": {
    "name": "ipython",
    "version": 3
   },
   "file_extension": ".py",
   "mimetype": "text/x-python",
   "name": "python",
   "nbconvert_exporter": "python",
   "pygments_lexer": "ipython3",
   "version": "3.9.1"
  }
 },
 "nbformat": 4,
 "nbformat_minor": 5
}
