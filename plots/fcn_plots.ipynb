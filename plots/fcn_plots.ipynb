{
 "cells": [
  {
   "cell_type": "code",
   "execution_count": 1,
   "id": "b5824c93-7926-4dd9-b445-004193a0bbfa",
   "metadata": {},
   "outputs": [],
   "source": [
    "import xarray as xr\n",
    "import numpy as np\n",
    "import pandas as pd\n",
    "import matplotlib.pyplot as plt\n",
    "#import xarray_extras.csv as csv\n",
    "import cmcrameri \n",
    "from matplotlib import cm\n",
    "from matplotlib.ticker import LinearLocator\n",
    "from matplotlib.colors import Normalize, CenteredNorm\n",
    "import cartopy.crs as ccrs\n",
    "import cartopy.feature as cfeature"
   ]
  },
  {
   "cell_type": "code",
   "execution_count": 6,
   "id": "e78f6fbc-5593-4944-bfb5-ecf32c996209",
   "metadata": {},
   "outputs": [],
   "source": [
    "idx = {\"u10\":0, \"v10\":1, \"t2m\":2, \"t850\":3, \"z500\":4, \"tp\":5}\n",
    "results_path = \"../results/fcn/\"\n",
    "plot_path = \"../plots/fcn/\""
   ]
  },
  {
   "cell_type": "code",
   "execution_count": 7,
   "id": "7084a0fa-fa62-4426-b63f-571bdfecad88",
   "metadata": {},
   "outputs": [],
   "source": [
    "# Open dataset\n",
    "baselines = xr.open_dataset(results_path + \"crps_metrics.h5\").rename({\"phony_dim_0\" : \"ics\", \"phony_dim_1\" : \"var\", \"phony_dim_4\": \"lead_time\", \"phony_dim_2\": \"lat\", \"phony_dim_3\": \"lon\"})\n",
    "eq = xr.open_dataset(results_path + \"eq_crps.h5\").rename({\"phony_dim_0\" : \"ics\", \"phony_dim_1\" : \"lead_time\", \"phony_dim_2\": \"var\", \"phony_dim_3\": \"lat\", \"phony_dim_4\": \"lon\"})\n",
    "ecmwf = xr.open_dataset(results_path + \"ecmwf_crps.h5\").rename({\"phony_dim_0\" : \"ics\", \"phony_dim_1\" : \"lead_time\", \"phony_dim_2\": \"var\", \"phony_dim_3\": \"lat\", \"phony_dim_4\": \"lon\"})\n",
    "eq_median = xr.open_dataset(results_path + \"eq_median.h5\").rename({\"phony_dim_0\" : \"ics\", \"phony_dim_1\" : \"lead_time\", \"phony_dim_2\": \"var\", \"phony_dim_3\": \"lat\", \"phony_dim_4\": \"lon\"})\n",
    "lm = xr.open_dataset(results_path + \"lm_crps.h5\").rename({\"phony_dim_0\" : \"ics\", \"phony_dim_1\" : \"lead_time\", \"phony_dim_2\": \"var\", \"phony_dim_3\": \"lat\", \"phony_dim_4\": \"lon\"})\n",
    "drn = xr.open_dataset(results_path + \"drn_crps.h5\").rename({\"phony_dim_0\" : \"ics\", \"phony_dim_1\" : \"lead_time\", \"phony_dim_2\": \"var\", \"phony_dim_3\": \"lat\", \"phony_dim_4\": \"lon\"})"
   ]
  },
  {
   "cell_type": "code",
   "execution_count": 8,
   "id": "bf58f52b-207e-49a9-81fb-aba65660ab30",
   "metadata": {},
   "outputs": [],
   "source": [
    "ens_fc = baselines.ens_fc\n",
    "easyuq = eq.eq\n",
    "ecmwf_fcn = ecmwf.fcn_ics\n",
    "ecmwf_ics = ecmwf.ics\n",
    "ens_lm = lm.ics\n",
    "drn_single = drn.drn_single"
   ]
  },
  {
   "cell_type": "code",
   "execution_count": 9,
   "id": "ec857e7d-0bad-43ba-b429-e79a0a013f80",
   "metadata": {},
   "outputs": [],
   "source": [
    "# Plot parameters\n",
    "plt.style.use('seaborn-v0_8-whitegrid')\n",
    "cmap_name = \"cmc.roma_r\"\n",
    "cmap = plt.get_cmap(cmap_name)\n",
    "plt.rcParams['image.cmap'] = cmap_name\n",
    "\n",
    "cmap_error = \"cmc.vik\""
   ]
  },
  {
   "cell_type": "code",
   "execution_count": null,
   "id": "86012eb4-a4cb-4315-9731-826c31cdafe0",
   "metadata": {},
   "outputs": [],
   "source": [
    "cmap"
   ]
  },
  {
   "cell_type": "code",
   "execution_count": 16,
   "id": "ffca89a0-7833-4f2b-a838-8e237b1bd0be",
   "metadata": {},
   "outputs": [],
   "source": [
    "# Sizes\n",
    "lw = 4.2\n",
    "titlesize = 35\n",
    "ticksize = 25\n",
    "axissize = 30"
   ]
  },
  {
   "cell_type": "code",
   "execution_count": 17,
   "id": "a0821322-598b-46a9-8d14-3646e47c53cf",
   "metadata": {},
   "outputs": [],
   "source": [
    "# ECMWF Europe grid \n",
    "# 35-75°N und von 12.5°W bis 42.5°E\n",
    "lon = [-12.5, 42.5]\n",
    "lat = [35,75]\n",
    "lons = np.arange(lon[0], lon[1], 0.25)\n",
    "lats = np.flip(np.arange(lat[0], lat[1], 0.25))\n",
    "lead_times = [4,12,28]"
   ]
  },
  {
   "cell_type": "code",
   "execution_count": 18,
   "id": "ad316b61-e10d-4ebb-938d-501062e23c1b",
   "metadata": {},
   "outputs": [],
   "source": [
    "methods = [\"ECMWF IFS\", \"GNP\", \"IFSP\", \"RFP\", \"EasyUQ\", \"DRN\"]"
   ]
  },
  {
   "cell_type": "code",
   "execution_count": 22,
   "id": "f77b3dd7-a215-4f47-a5bd-806e17a3e0ab",
   "metadata": {},
   "outputs": [],
   "source": [
    "colors = {\"ECMWF IFS\": \"black\", \"GNP\": cmap(0.01), \"IFSP\": cmap(0.25), \"RFP\": cmap(0.38), \"EasyUQ\": cmap(0.65), \"DRN\": cmap(0.85)}"
   ]
  },
  {
   "cell_type": "markdown",
   "id": "03a0f7e9-626b-49dc-a014-676435bf487c",
   "metadata": {
    "jp-MarkdownHeadingCollapsed": true,
    "tags": []
   },
   "source": [
    "# Aggregated results"
   ]
  },
  {
   "cell_type": "code",
   "execution_count": null,
   "id": "93ccfc8f-396a-4321-bba5-43f48b5910a5",
   "metadata": {},
   "outputs": [],
   "source": [
    "iterables = [[\"Short\",\"Mid\", \"Long\"],[\"u10\", \"v10\", \"t2m\", \"t850\", \"z500\"]]\n",
    "col_names = [\"Gaussian\", \"ECMWF ICS\", \"ECMWF IFS\", \"RF\", \"EasyUQ\", \"DRN\"]\n",
    "methods = [ecmwf_fcn, ecmwf_ics, ens_lm, easyuq, drn_single]\n",
    "\n",
    "index = pd.MultiIndex.from_product(iterables, names=[\"Lead time\", \"variables\"])\n",
    "\n",
    "data = pd.DataFrame(np.zeros((15,6)), index=index, columns = col_names)\n",
    "\n",
    "for var in list(idx.keys())[0:5]:\n",
    "    # FCN\n",
    "    data.loc[(\"Short\", var), \"Gaussian\"] = ens_fc.isel(phony_dim_1 = idx[var], phony_dim_4 = slice(1,9)).mean()\n",
    "    data.loc[(\"Mid\", var), \"Gaussian\"] = ens_fc.isel(phony_dim_1 = idx[var], phony_dim_4 = slice(9,21)).mean()\n",
    "    data.loc[(\"Long\", var), \"Gaussian\"] = ens_fc.isel(phony_dim_1 = idx[var], phony_dim_4 = slice(21,32)).mean()\n",
    "\n",
    "    #Other methods\n",
    "    for x, method in enumerate(methods):\n",
    "        data.loc[(\"Short\", var), col_names[x+1]] = method.isel(phony_dim_2 = idx[var], phony_dim_1 = slice(1,9)).mean()\n",
    "        data.loc[(\"Mid\", var), col_names[x+1]] = method.isel(phony_dim_2 = idx[var], phony_dim_1 = slice(9,21)).mean()\n",
    "        data.loc[(\"Long\", var), col_names[x+1]] = method.isel(phony_dim_2 = idx[var], phony_dim_1 = slice(21,32)).mean()     "
   ]
  },
  {
   "cell_type": "code",
   "execution_count": null,
   "id": "ed7c0466-a5ec-4882-8390-11905da75d92",
   "metadata": {},
   "outputs": [],
   "source": [
    "data"
   ]
  },
  {
   "cell_type": "code",
   "execution_count": null,
   "id": "0266a4b5-145a-41ab-9ec5-85b50e551768",
   "metadata": {},
   "outputs": [],
   "source": [
    "print(data.to_latex(index=True, float_format=\"{:.4f}\".format))"
   ]
  },
  {
   "cell_type": "markdown",
   "id": "86fde167-23eb-488d-890e-355a3d3d53a2",
   "metadata": {
    "tags": []
   },
   "source": [
    "# Per time"
   ]
  },
  {
   "cell_type": "code",
   "execution_count": null,
   "id": "878aa59c-e8dc-4c09-90d3-f156ed8785ea",
   "metadata": {},
   "outputs": [],
   "source": [
    "fig, axs = plt.subplots(3, 2, figsize = (30,25))\n",
    "axs = axs.ravel()\n",
    "hour_range = np.arange(1, ens_fc.shape[1])*6\n",
    "marker = \" \"\n",
    "\n",
    "for i, var in enumerate([2,3,0,1,4]):\n",
    "    axs[i].plot(hour_range, ecmwf_ics.isel(var = var, lead_time = slice(1,32)).mean(dim = [\"ics\", \"lat\", \"lon\"]), marker = marker, color = colors[\"ECMWF IFS\"], lw = lw)\n",
    "    axs[i].plot(hour_range, ens_fc.isel(var = var, lead_time = slice(1,32)).mean(dim = [\"ics\", \"lat\", \"lon\"]), marker = marker, color = colors[\"GNP\"], lw = lw)\n",
    "    axs[i].plot(hour_range, ecmwf_fcn.isel(var = var, lead_time = slice(1,32)).mean(dim = [\"ics\", \"lat\", \"lon\"]), marker = marker, color = colors[\"IFSP\"], lw =lw)\n",
    "    axs[i].plot(hour_range, ens_lm.isel(var = var, lead_time = slice(1,32)).mean(dim = [\"ics\", \"lat\", \"lon\"]), marker = marker, color = colors[\"RFP\"], lw = lw)    \n",
    "    axs[i].plot(hour_range, easyuq.isel(var = var, lead_time = slice(1,32)).mean(dim = [\"ics\", \"lat\", \"lon\"]), marker = marker, color = colors[\"EasyUQ\"], lw = lw)           \n",
    "    axs[i].plot(hour_range, drn_single.isel(var = var, lead_time = slice(1,32)).mean(dim = [\"ics\", \"lat\", \"lon\"]), marker = marker, color = colors[\"DRN\"], lw = lw)\n",
    "\n",
    "    axs[i].set_title(f\"{list(idx.keys())[var]}\".upper(), fontsize = titlesize+3)\n",
    "    axs[i].set_xlim([0, 186])\n",
    "    axs[i].tick_params(axis='both', labelsize = ticksize+5)\n",
    "    \n",
    "axs[3].set_xlabel(\"Forecast lead time [h]\", fontsize = axissize+5)\n",
    "axs[4].set_xlabel(\"Forecast lead time [h]\", fontsize = axissize+5)\n",
    "axs[0].set_ylabel(\"CRPS\", fontsize = axissize+5)\n",
    "axs[2].set_ylabel(\"CRPS\", fontsize = axissize+5)\n",
    "axs[4].set_ylabel(\"CRPS\", fontsize = axissize+5)\n",
    "\n",
    "#Remove unused axis\n",
    "axs[5].remove()\n",
    "    \n",
    "fig.legend(loc=(0.7,0.08), labels = methods, fontsize = titlesize+7)\n",
    "    \n",
    "fig.tight_layout()\n",
    "plt.savefig(plot_path + f\"cprs_per_time.pdf\", bbox_inches = \"tight\", dpi = 300)"
   ]
  },
  {
   "cell_type": "markdown",
   "id": "96049b81-006a-4ef2-9333-1883053c4349",
   "metadata": {
    "tags": []
   },
   "source": [
    "# Per gridpoint (CRPSS)"
   ]
  },
  {
   "cell_type": "code",
   "execution_count": null,
   "id": "3f72afe8-cfb8-44a2-9b22-ee1569dfb128",
   "metadata": {},
   "outputs": [],
   "source": []
  },
  {
   "cell_type": "code",
   "execution_count": null,
   "id": "e52231cf-5571-456b-84b7-8db82d73b93c",
   "metadata": {},
   "outputs": [],
   "source": [
    "fig, axs = plt.subplots(3,5, figsize = (28,10),subplot_kw={'projection': ccrs.PlateCarree()})\n",
    "var = 4\n",
    "\n",
    "for ax in axs.ravel():\n",
    "    ax.set_extent([lon[0], lon[1]-0.25, lat[0], lat[1]], crs=ccrs.PlateCarree())\n",
    "    ax.add_feature(cfeature.COASTLINE)\n",
    "\n",
    "normalizer=CenteredNorm(halfrange = 1) # 0,1\n",
    "#normalizer=Normalize(-0.5,0.6) # 2\n",
    "#normalizer=Normalize(-0.2,0.3) # 3\n",
    "#normalizer=Normalize(-0.2,0.25) # 4\n",
    "im=cm.ScalarMappable(norm=normalizer, cmap = cmap_error)\n",
    "\n",
    "for t, lead_time in enumerate(lead_times):    \n",
    "    ref = ecmwf_ics.isel(var = var, lead_time = lead_time).mean(dim = [\"ics\"])\n",
    "    \n",
    "    axs[t,0].contourf(lons, lats, (ref.data-ens_fc.isel(var = var, lead_time = lead_time).mean(dim = [\"ics\"]))/ref.data, 60, transform=ccrs.PlateCarree(), norm = normalizer, cmap = cmap_error)\n",
    "    axs[t,1].contourf(lons, lats, (ref.data-ecmwf_fcn.isel(var = var, lead_time = lead_time).mean(dim = [\"ics\"]))/ref.data, 60, transform=ccrs.PlateCarree(), norm = normalizer, cmap = cmap_error)\n",
    "    axs[t,2].contourf(lons, lats, (ref.data-ens_lm.isel(var = var, lead_time = lead_time).mean(dim = [\"ics\"]))/ref.data, 60, transform=ccrs.PlateCarree(), norm = normalizer, cmap = cmap_error)\n",
    "    axs[t,3].contourf(lons, lats, (ref.data-easyuq.isel(var = var, lead_time = lead_time).mean(dim = [\"ics\"]))/ref.data, 60, transform=ccrs.PlateCarree(), norm = normalizer, cmap = cmap_error)\n",
    "    axs[t,4].contourf(lons, lats, (ref.data-drn_single.isel(var = var, lead_time = lead_time).mean(dim = [\"ics\"]))/ref.data, 60, transform=ccrs.PlateCarree(), norm = normalizer, cmap = cmap_error)\n",
    "    \n",
    "    # Lead time\n",
    "    axs[t,0].set_xticks([])\n",
    "    axs[t,0].set_yticks([])\n",
    "    axs[t,0].set_ylabel(f\"Lead time: {lead_time *6}h\", fontsize = axissize)\n",
    "\n",
    "# Set title\n",
    "axs[0,0].set_title(\"GNP\", fontsize = axissize)\n",
    "axs[0,1].set_title(\"IFSP\", fontsize = axissize)\n",
    "axs[0,2].set_title(\"RFP\", fontsize = axissize)\n",
    "axs[0,3].set_title(\"EasyUQ\", fontsize = axissize)\n",
    "axs[0,4].set_title(\"DRN\", fontsize = axissize)\n",
    "\n",
    "# Remove all axis label\n",
    "axs = axs.ravel()\n",
    "for i in range(len(axs)):\n",
    "    if i%5!=0:\n",
    "        axs[i].set_ylabel(None)\n",
    "    axs[i].set_xlabel(None)\n",
    "\n",
    "plt.tight_layout()\n",
    "fig.subplots_adjust(right=0.8)\n",
    "cbar_ax = fig.add_axes([0.805, 0.05, 0.05, 0.86])\n",
    "cb = fig.colorbar(im, cax=cbar_ax)\n",
    "cb.ax.tick_params(labelsize=ticksize)\n",
    "\n",
    "#plt.suptitle(f\"CRPSS against Gaussian model for variable {list(idx.keys())[var]}\", fontsize = titlesize)\n",
    "\n",
    "plt.savefig(plot_path + f\"crpss_per_grid_{list(idx.keys())[var]}.png\", bbox_inches = \"tight\")"
   ]
  },
  {
   "cell_type": "code",
   "execution_count": null,
   "id": "e3396625-3642-43bd-881f-2570f2d24617",
   "metadata": {},
   "outputs": [],
   "source": [
    "%%capture\n",
    "\n",
    "for var in range(5):\n",
    "    fig, axs = plt.subplots(3,5, figsize = (28,10),subplot_kw={'projection': ccrs.PlateCarree()})\n",
    "    for ax in axs.ravel():\n",
    "        ax.set_extent([lon[0], lon[1]-0.25, lat[0], lat[1]], crs=ccrs.PlateCarree())\n",
    "        ax.add_feature(cfeature.COASTLINE)\n",
    "        \n",
    "\n",
    "    normalizer=CenteredNorm(halfrange = 1)\n",
    "    im=cm.ScalarMappable(norm=normalizer, cmap = cmap_error)\n",
    "\n",
    "    for t, lead_time in enumerate(lead_times):    \n",
    "        ref = ecmwf_ics.isel(var = var, lead_time = lead_time).mean(dim = [\"ics\"])\n",
    "        \n",
    "        axs[t,0].contourf(lons, lats, (ref.data-ens_fc.isel(var = var, lead_time = lead_time).mean(dim = [\"ics\"]))/ref.data, 60, transform=ccrs.PlateCarree(), norm = normalizer, cmap = cmap_error)\n",
    "        axs[t,1].contourf(lons, lats, (ref.data-ecmwf_fcn.isel(var = var, lead_time = lead_time).mean(dim = [\"ics\"]))/ref.data, 60, transform=ccrs.PlateCarree(), norm = normalizer, cmap = cmap_error)\n",
    "        axs[t,2].contourf(lons, lats, (ref.data-ens_lm.isel(var = var, lead_time = lead_time).mean(dim = [\"ics\"]))/ref.data, 60, transform=ccrs.PlateCarree(), norm = normalizer, cmap = cmap_error)\n",
    "        axs[t,3].contourf(lons, lats, (ref.data-easyuq.isel(var = var, lead_time = lead_time).mean(dim = [\"ics\"]))/ref.data, 60, transform=ccrs.PlateCarree(), norm = normalizer, cmap = cmap_error)\n",
    "        axs[t,4].contourf(lons, lats, (ref.data-drn_single.isel(var = var, lead_time = lead_time).mean(dim = [\"ics\"]))/ref.data, 60, transform=ccrs.PlateCarree(), norm = normalizer, cmap = cmap_error)\n",
    "        \n",
    "        # Lead time\n",
    "        axs[t,0].set_xticks([])\n",
    "        axs[t,0].set_yticks([])\n",
    "        axs[t,0].set_ylabel(f\"Lead time: {lead_time *6}h\", fontsize = axissize)\n",
    "\n",
    "    # Set title\n",
    "    axs[0,0].set_title(\"GNP\", fontsize = axissize)\n",
    "    axs[0,1].set_title(\"IFSP\", fontsize = axissize)\n",
    "    axs[0,2].set_title(\"RFP\", fontsize = axissize)\n",
    "    axs[0,3].set_title(\"EasyUQ\", fontsize = axissize)\n",
    "    axs[0,4].set_title(\"DRN\", fontsize = axissize)\n",
    "    \n",
    "    # Remove all axis label\n",
    "    axs = axs.ravel()\n",
    "    for i in range(len(axs)):\n",
    "        if i%5!=0:\n",
    "            axs[i].set_ylabel(None)\n",
    "        axs[i].set_xlabel(None)\n",
    "\n",
    "    plt.tight_layout()\n",
    "    fig.subplots_adjust(right=0.8)\n",
    "    cbar_ax = fig.add_axes([0.805, 0.05, 0.05, 0.86])\n",
    "    cb = fig.colorbar(im, cax=cbar_ax)\n",
    "    cb.ax.tick_params(labelsize=ticksize)\n",
    "\n",
    "    #plt.suptitle(f\"CRPSS against Gaussian model for variable {list(idx.keys())[var]}\", fontsize = titlesize)\n",
    "    plt.savefig(plot_path + f\"crpss_per_grid_{list(idx.keys())[var]}.png\", bbox_inches = \"tight\")"
   ]
  },
  {
   "cell_type": "markdown",
   "id": "6d0bc5c8-8095-467b-b449-0105f1421f57",
   "metadata": {
    "tags": []
   },
   "source": [
    "# Per gridpoint (CRPS)"
   ]
  },
  {
   "cell_type": "code",
   "execution_count": null,
   "id": "7d34dcb1-12af-47ca-b1ee-9f1b0bfdd2ec",
   "metadata": {},
   "outputs": [],
   "source": [
    "var = 4\n",
    "fig, axs = plt.subplots(3,5, figsize = (28,10),subplot_kw={'projection': ccrs.PlateCarree()})\n",
    "for ax in axs.ravel():\n",
    "    ax.set_extent([lon[0], lon[1]-0.25, lat[0], lat[1]], crs=ccrs.PlateCarree())\n",
    "    ax.add_feature(cfeature.COASTLINE)\n",
    "\n",
    "if var == 4:\n",
    "    normalizer=Normalize(0,600)\n",
    "elif var == 3:\n",
    "    normalizer=Normalize(0,2.5)\n",
    "elif var == 2:\n",
    "    normalizer=Normalize(0,2.5)\n",
    "else:\n",
    "    normalizer=Normalize(0,4) \n",
    "\n",
    "im=cm.ScalarMappable(norm=normalizer)\n",
    "\n",
    "for t, lead_time in enumerate(lead_times):    \n",
    "    axs[t,0].contourf(lons, lats, ens_fc.isel(var = var, lead_time = lead_time).mean(dim = [\"ics\"]), 60, transform=ccrs.PlateCarree(), norm = normalizer)\n",
    "    axs[t,1].contourf(lons, lats, ecmwf_fcn.isel(var = var, lead_time = lead_time).mean(dim = [\"ics\"]), 60, transform=ccrs.PlateCarree(), norm = normalizer)\n",
    "    axs[t,2].contourf(lons, lats, ens_lm.isel(var = var, lead_time = lead_time).mean(dim = [\"ics\"]), 60, transform=ccrs.PlateCarree(), norm = normalizer)\n",
    "    axs[t,3].contourf(lons, lats, easyuq.isel(var = var, lead_time = lead_time).mean(dim = [\"ics\"]), 60, transform=ccrs.PlateCarree(), norm = normalizer)\n",
    "    axs[t,4].contourf(lons, lats,drn_single.isel(var = var, lead_time = lead_time).mean(dim = [\"ics\"]), 60, transform=ccrs.PlateCarree(), norm = normalizer)\n",
    "\n",
    "    # Lead time\n",
    "    axs[t,0].set_xticks([])\n",
    "    axs[t,0].set_yticks([])\n",
    "    axs[t,0].set_ylabel(f\"Lead time: {lead_time *6}h\", fontsize = axissize)\n",
    "\n",
    "# Set title\n",
    "axs[0,0].set_title(\"GNP\", fontsize = axissize)\n",
    "axs[0,1].set_title(\"IFSP\", fontsize = axissize)\n",
    "axs[0,2].set_title(\"RFP\", fontsize = axissize)\n",
    "axs[0,3].set_title(\"EasyUQ\", fontsize = axissize)\n",
    "axs[0,4].set_title(\"DRN\", fontsize = axissize)\n",
    "\n",
    "# Remove all axis label\n",
    "axs = axs.ravel()\n",
    "for i in range(len(axs)):\n",
    "    if i%5!=0:\n",
    "        axs[i].set_ylabel(None)\n",
    "    axs[i].set_xlabel(None)\n",
    "\n",
    "plt.tight_layout()\n",
    "fig.subplots_adjust(right=0.8)\n",
    "cbar_ax = fig.add_axes([0.805, 0.05, 0.05, 0.86])\n",
    "cb = fig.colorbar(im, cax=cbar_ax)\n",
    "cb.ax.tick_params(labelsize=ticksize)\n",
    "\n",
    "#plt.suptitle(f\"CRPS for variable {list(idx.keys())[var]}\", fontsize = titlesize)\n",
    "plt.savefig(plot_path + f\"crps_per_grid_{list(idx.keys())[var]}.png\", bbox_inches = \"tight\")"
   ]
  },
  {
   "cell_type": "code",
   "execution_count": null,
   "id": "23da8dfe-798e-439c-8bde-042af86334e7",
   "metadata": {},
   "outputs": [],
   "source": [
    "%%capture\n",
    "for var in range(5):\n",
    "    fig, axs = plt.subplots(3,5, figsize = (28,10),subplot_kw={'projection': ccrs.PlateCarree()})\n",
    "    for ax in axs.ravel():\n",
    "        ax.set_extent([lon[0], lon[1]-0.25, lat[0], lat[1]], crs=ccrs.PlateCarree())\n",
    "        ax.add_feature(cfeature.COASTLINE)\n",
    "\n",
    "    if var == 4:\n",
    "        normalizer=Normalize(0,550)\n",
    "    elif var == 3:\n",
    "        normalizer=Normalize(0,2.5)\n",
    "    elif var == 2:\n",
    "        normalizer=Normalize(0,2.5)\n",
    "    else:\n",
    "        normalizer=Normalize(0,4) \n",
    "\n",
    "    im=cm.ScalarMappable(norm=normalizer)\n",
    "\n",
    "    for t, lead_time in enumerate(lead_times):    \n",
    "        axs[t,0].contourf(lons, lats, ens_fc.isel(var = var, lead_time = lead_time).mean(dim = [\"ics\"]), 60, transform=ccrs.PlateCarree(), norm = normalizer)\n",
    "        axs[t,1].contourf(lons, lats, ecmwf_fcn.isel(var = var, lead_time = lead_time).mean(dim = [\"ics\"]), 60, transform=ccrs.PlateCarree(), norm = normalizer)\n",
    "        axs[t,2].contourf(lons, lats, ens_lm.isel(var = var, lead_time = lead_time).mean(dim = [\"ics\"]), 60, transform=ccrs.PlateCarree(), norm = normalizer)\n",
    "        axs[t,3].contourf(lons, lats, easyuq.isel(var = var, lead_time = lead_time).mean(dim = [\"ics\"]), 60, transform=ccrs.PlateCarree(), norm = normalizer)\n",
    "        axs[t,4].contourf(lons, lats,drn_single.isel(var = var, lead_time = lead_time).mean(dim = [\"ics\"]), 60, transform=ccrs.PlateCarree(), norm = normalizer)\n",
    "\n",
    "        # Lead time\n",
    "        axs[t,0].set_xticks([])\n",
    "        axs[t,0].set_yticks([])\n",
    "        axs[t,0].set_ylabel(f\"Lead time: {lead_time *6}h\", fontsize = axissize)\n",
    "\n",
    "    # Set title\n",
    "    axs[0,0].set_title(\"GNP\", fontsize = axissize)\n",
    "    axs[0,1].set_title(\"IFSP\", fontsize = axissize)\n",
    "    axs[0,2].set_title(\"RFP\", fontsize = axissize)\n",
    "    axs[0,3].set_title(\"EasyUQ\", fontsize = axissize)\n",
    "    axs[0,4].set_title(\"DRN\", fontsize = axissize)\n",
    "\n",
    "    # Remove all axis label\n",
    "    axs = axs.ravel()\n",
    "    for i in range(len(axs)):\n",
    "        if i%5!=0:\n",
    "            axs[i].set_ylabel(None)\n",
    "        axs[i].set_xlabel(None)\n",
    "\n",
    "    plt.tight_layout()\n",
    "    fig.subplots_adjust(right=0.8)\n",
    "    cbar_ax = fig.add_axes([0.805, 0.05, 0.05, 0.86])\n",
    "    cb = fig.colorbar(im, cax=cbar_ax)\n",
    "    cb.ax.tick_params(labelsize=ticksize)\n",
    "\n",
    "    #plt.suptitle(f\"CRPS for variable {list(idx.keys())[var]}\", fontsize = titlesize)\n",
    "    plt.savefig(plot_path + f\"crps_per_grid_{list(idx.keys())[var]}.png\", bbox_inches = \"tight\")"
   ]
  },
  {
   "cell_type": "markdown",
   "id": "faf3e932-6861-4c93-bb39-f7197f0a504d",
   "metadata": {
    "tags": []
   },
   "source": [
    "# PIT Histogram"
   ]
  },
  {
   "cell_type": "code",
   "execution_count": 29,
   "id": "6d0abec9-b238-46be-a792-e02c2d536d55",
   "metadata": {},
   "outputs": [],
   "source": [
    "n_grid = 10\n",
    "var = 4"
   ]
  },
  {
   "cell_type": "code",
   "execution_count": 30,
   "id": "71be17d5-37ce-43a0-8d44-ab20da96cf14",
   "metadata": {},
   "outputs": [],
   "source": [
    "pit = np.load(results_path + f\"pit_{list(idx.keys())[var]}.npy\").reshape(-1,3,6)"
   ]
  },
  {
   "cell_type": "code",
   "execution_count": null,
   "id": "757b5164-4850-40b1-bebd-e6157832a8c2",
   "metadata": {},
   "outputs": [],
   "source": [
    "models = [\"ECMWF IFS\", \"GNP\", \"IFSP\", \"RFP\", \"EasyUQ\", \"DRN\"]\n",
    "cols = list(colors.values())\n",
    "\n",
    "fig, axs = plt.subplots(3, 6, figsize = (25,10))\n",
    "\n",
    "\n",
    "for i, model in enumerate(models):\n",
    "    for t, lead_time in enumerate(lead_times):\n",
    "        axs[t,i].hist(pit[:,t,i], color = cols[i])\n",
    "        axs[t,i].set_ylim([0,1200])\n",
    "        axs[t,0].set_ylabel(f\"Lead time : {6*lead_time}h\", fontsize = 20)\n",
    "        axs[t,i].tick_params(axis='both', labelsize = 12)\n",
    "        \n",
    "    axs[0,i].set_title(f\"{model}\", fontsize = 22)\n",
    "        \n",
    "#fig.suptitle(f'PIT histograms for variable {list(idx.keys())[var]} and {n_grid} random grid points', fontsize = 25)\n",
    "\n",
    "plt.savefig(plot_path + f\"pit_{list(idx.keys())[var]}.pdf\", bbox_inches = \"tight\")"
   ]
  },
  {
   "cell_type": "markdown",
   "id": "90b52960-b40d-470b-9365-d791e85425eb",
   "metadata": {
    "tags": []
   },
   "source": [
    "# Bias"
   ]
  },
  {
   "cell_type": "code",
   "execution_count": null,
   "id": "7e6ba80b-be10-4f26-b607-b8a1eaff6236",
   "metadata": {},
   "outputs": [],
   "source": [
    "var = 4"
   ]
  },
  {
   "cell_type": "code",
   "execution_count": null,
   "id": "84775c2f-c220-4ee6-9c4c-072573e36e0c",
   "metadata": {},
   "outputs": [],
   "source": [
    "bias_results = np.load(results_path+f\"bias_results_{list(idx.keys())[var]}.npy\")"
   ]
  },
  {
   "cell_type": "code",
   "execution_count": null,
   "id": "15c5579b-4ab8-4843-8397-5fff19711eb3",
   "metadata": {},
   "outputs": [],
   "source": [
    "fig, axs = plt.subplots(3,4, figsize = (22,10),subplot_kw={'projection': ccrs.PlateCarree()})\n",
    "\n",
    "for ax in axs.ravel():\n",
    "    ax.set_extent([lon[0], lon[1]-1, lat[0], lat[1]], crs=ccrs.PlateCarree())\n",
    "    ax.add_feature(cfeature.COASTLINE)\n",
    "    \n",
    "# Normalizer\n",
    "normalizer=Normalize(bias_results.min(),bias_results.max())\n",
    "im=cm.ScalarMappable(norm=normalizer, cmap = \"cmc.vik\")\n",
    "    \n",
    "for t, lead_time in enumerate(lead_times):\n",
    "    for i in range(4):\n",
    "        axs[t,i].contourf(lons, lats, bias_results[i,t], 60, transform=ccrs.PlateCarree(), norm = normalizer, cmap = \"cmc.vik\")\n",
    "        \n",
    "    axs[t,0].set_xticks([])\n",
    "    axs[t,0].set_yticks([])\n",
    "    axs[t,0].set_ylabel(f\"Lead time: {lead_time *6}h\", fontsize = axissize)\n",
    "axs[0,0].set_title(\"GP\", fontsize = axissize)\n",
    "axs[0,1].set_title(\"RFP\", fontsize = axissize)\n",
    "axs[0,2].set_title(\"IFSP\", fontsize = axissize)\n",
    "axs[0,3].set_title(\"DRN\", fontsize = axissize)\n",
    "\n",
    "plt.tight_layout()\n",
    "fig.subplots_adjust(right=0.8)\n",
    "cbar_ax = fig.add_axes([0.805, 0.05, 0.05, 0.86])\n",
    "cb = fig.colorbar(im, cax=cbar_ax)\n",
    "cb.ax.tick_params(labelsize=ticksize)\n",
    "\n",
    "#plt.suptitle(f\"Bias for variable {list(idx.keys())[var]}\", fontsize = titlesize)\n",
    "#plt.savefig(plot_path+f\"bias_{list(idx.keys())[var]}.png\", bbox_inches = \"tight\")"
   ]
  },
  {
   "cell_type": "markdown",
   "id": "9bc9729c-a03c-4d2e-9b24-cb1c612d535d",
   "metadata": {},
   "source": [
    "# RMSE spread"
   ]
  },
  {
   "cell_type": "code",
   "execution_count": null,
   "id": "95487632-1ead-4b36-bd17-ba054c3d833c",
   "metadata": {},
   "outputs": [],
   "source": [
    "var = 4\n",
    "models = [\"GP\", \"IFSP\", \"RFP\", \"ECMWF IFS\"]\n",
    "colors = [cmap(0.15), cmap(0.4), cmap(0.65), cmap(0.01)]\n",
    "results = np.load(results_path + f\"rmse_spread_{list(idx.keys())[var]}.npy\")"
   ]
  },
  {
   "cell_type": "code",
   "execution_count": null,
   "id": "18a96694-9802-4cdf-8958-a218c72ea787",
   "metadata": {},
   "outputs": [],
   "source": [
    "fig, axs = plt.subplots(figsize = (10,12))\n",
    "h = np.arange(1,32)*6\n",
    "\n",
    "for i in range(4):\n",
    "    axs.plot(h,results[i, 0,1:32].mean(axis = 1), color = colors[i], lw = lw, label = models[i])\n",
    "    axs.plot(h,results[i, 1,1:32].mean(axis = 1), color = colors[i], linestyle = \"--\", lw = lw)\n",
    "\n",
    "axs.legend(fontsize = axissize)\n",
    "axs.set_ylabel(f\"RMSE\", fontsize = axissize)\n",
    "axs.set_xlabel(f\"Time [h]\", fontsize = axissize)\n",
    "axs.tick_params(axis='both', labelsize = ticksize)\n",
    "axs.set_xlim([6,186])\n",
    "\n",
    "#fig.suptitle(list(idx.keys())[var], fontsize = titlesize)\n",
    "plt.savefig(plot_path + f\"rmse_spread_{list(idx.keys())[var]}.pdf\")"
   ]
  }
 ],
 "metadata": {
  "kernelspec": {
   "display_name": "Python (fcn)",
   "language": "python",
   "name": "fcn"
  },
  "language_info": {
   "codemirror_mode": {
    "name": "ipython",
    "version": 3
   },
   "file_extension": ".py",
   "mimetype": "text/x-python",
   "name": "python",
   "nbconvert_exporter": "python",
   "pygments_lexer": "ipython3",
   "version": "3.9.1"
  }
 },
 "nbformat": 4,
 "nbformat_minor": 5
}
